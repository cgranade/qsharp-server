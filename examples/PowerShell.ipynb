{
 "cells": [
  {
   "cell_type": "code",
   "execution_count": 2,
   "id": "aware-disposition",
   "metadata": {},
   "outputs": [],
   "source": [
    "$projectFile = Get-Item ../qsharp-server/src/qsharp-server.csproj"
   ]
  },
  {
   "cell_type": "code",
   "execution_count": 3,
   "id": "usual-castle",
   "metadata": {},
   "outputs": [
    {
     "name": "stdout",
     "output_type": "stream",
     "text": [
      "\n",
      "    Directory: C:\\Users\\cgran\\source\\scratch\\qsharp-server\\qsharp-server\\src\n",
      "\n",
      "Mode                 LastWriteTime         Length Name\n",
      "----                 -------------         ------ ----\n",
      "-a---            9/2/2021 10:48 PM            648 qsharp-server.csproj\n",
      "\n"
     ]
    }
   ],
   "source": [
    "$projectFile"
   ]
  },
  {
   "cell_type": "code",
   "execution_count": 8,
   "id": "fifty-pricing",
   "metadata": {},
   "outputs": [
    {
     "name": "stdout",
     "output_type": "stream",
     "text": [
      "{\"context\":\"1\",\"command\":\"compile\",\"payload\":{\"source\":\"function Foo() : Int { Message(\\\"Hi!\\\"); return 12; }\"}}\n",
      "{\"context\":\"2\",\"command\":\"simulate\",\"payload\":{\"input\":{},\"operation\":\"Foo\"}}\n",
      "{\"context\":\"3\",\"command\":\"compile\",\"payload\":{\"source\":\"open Microsoft.Quantum.Diagnostics; operation DumpZero() : Unit { use q = Qubit(); DumpMachine(); }\"}}\n",
      "{\"context\":\"4\",\"command\":\"simulate\",\"payload\":{\"simulator\":\"OpenSystemsSimulator\",\"operation\":\"DumpZero\",\"input\":{}}}\n",
      "{\"command\":\"exit\",\"payload\":{}}\n"
     ]
    }
   ],
   "source": [
    "@(\n",
    "    @{\n",
    "        \"command\" = \"compile\";\n",
    "        \"payload\" = @{\n",
    "            \"source\" = \"function Foo() : Int { Message(`\"Hi!`\"); return 12; }\"\n",
    "        };\n",
    "        \"context\" = \"1\";\n",
    "    },\n",
    "    @{\n",
    "        \"command\" = \"simulate\";\n",
    "        \"payload\" = @{\n",
    "            \"operation\" = \"Foo\";\n",
    "            \"input\" = @{};\n",
    "        };\n",
    "        \"context\" = \"2\";\n",
    "    },\n",
    "    @{\n",
    "        \"command\" = \"compile\";\n",
    "        \"payload\" = @{\n",
    "            \"source\" = \"open Microsoft.Quantum.Diagnostics; operation DumpZero() : Unit { use q = Qubit(); DumpMachine(); }\"\n",
    "        };\n",
    "        \"context\" = \"3\";\n",
    "    },\n",
    "    @{\n",
    "        \"command\" = \"simulate\";\n",
    "        \"payload\" = @{\n",
    "            \"operation\" = \"DumpZero\";\n",
    "            \"input\" = @{};\n",
    "            \"simulator\" = \"OpenSystemsSimulator\";\n",
    "        }\n",
    "        \"context\" = \"4\";\n",
    "    },\n",
    "    @{\n",
    "        \"command\" = \"exit\";\n",
    "        \"payload\" = @{};\n",
    "    }\n",
    ") `\n",
    "    | ForEach-Object { $_ | ConvertTo-Json -Compress }"
   ]
  },
  {
   "cell_type": "code",
   "execution_count": 5,
   "id": "taken-fifteen",
   "metadata": {},
   "outputs": [
    {
     "name": "stdout",
     "output_type": "stream",
     "text": [
      "\n",
      "data                                                            context\n",
      "----                                                            -------\n",
      "@{warnings=System.Object[]; compiled_callables=System.Object[]} 1\n",
      "\u001b[91mConvertFrom-Json: \n",
      "\u001b[96mLine |\n",
      "\u001b[96m  20 | \u001b[0m     | ForEach-Object { $_ | \u001b[96mConvertFrom-Json\u001b[0m }\n",
      "\u001b[96m     | \u001b[91m                             ~~~~~~~~~~~~~~~~\n",
      "\u001b[91m\u001b[96m     | \u001b[91mConversion from JSON failed with error: Unexpected end when reading token. Path 'data'.\u001b[0m\n",
      "\n"
     ]
    }
   ],
   "source": [
    "@(\n",
    "    @{\n",
    "        \"command\" = \"compile\";\n",
    "        \"payload\" = @{\n",
    "            \"source\" = \"function Foo() : Int { return 12; }\"\n",
    "        };\n",
    "        \"context\" = \"1\";\n",
    "    },\n",
    "    @{\n",
    "        \"command\" = \"simulate\";\n",
    "        \"payload\" = @{\n",
    "            \"operation\" = \"Foo\";\n",
    "            \"input\" = @{};\n",
    "        };\n",
    "        \"context\" = \"2\";\n",
    "    }\n",
    ") `\n",
    "    | ForEach-Object { $_ | ConvertTo-Json -Compress } `\n",
    "    | dotnet run --project $projectFile `\n",
    "    | ForEach-Object { $_ | ConvertFrom-Json }"
   ]
  },
  {
   "cell_type": "code",
   "execution_count": null,
   "id": "worldwide-culture",
   "metadata": {},
   "outputs": [],
   "source": []
  }
 ],
 "metadata": {
  "kernelspec": {
   "display_name": ".NET (PowerShell)",
   "language": "PowerShell",
   "name": ".net-powershell"
  },
  "language_info": {
   "file_extension": ".ps1",
   "mimetype": "text/x-powershell",
   "name": "PowerShell",
   "pygments_lexer": "powershell",
   "version": "7.0"
  }
 },
 "nbformat": 4,
 "nbformat_minor": 5
}
