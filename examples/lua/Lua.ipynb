{
 "cells": [
  {
   "cell_type": "code",
   "execution_count": 1,
   "id": "f4692db4",
   "metadata": {},
   "outputs": [],
   "source": [
    "qsharp = require \"qsharp\""
   ]
  },
  {
   "cell_type": "code",
   "execution_count": 2,
   "id": "f1a8b218",
   "metadata": {},
   "outputs": [],
   "source": [
    "qsharp.start(1234)"
   ]
  },
  {
   "cell_type": "code",
   "execution_count": 3,
   "id": "900e6d35",
   "metadata": {},
   "outputs": [
    {
     "name": "stdout",
     "output_type": "stream",
     "text": [
      "{ Hello } \n"
     ]
    }
   ],
   "source": [
    "callables = qsharp.compile([[\n",
    "    function Hello() : Int {\n",
    "        Message(\"Hi!\");\n",
    "        return 42;\n",
    "    }\n",
    "]])\n",
    "print(callables)"
   ]
  },
  {
   "cell_type": "code",
   "execution_count": 4,
   "id": "d6c0e1c6",
   "metadata": {},
   "outputs": [
    {
     "name": "stdout",
     "output_type": "stream",
     "text": [
      "Hi! \n",
      "42 \n"
     ]
    }
   ],
   "source": [
    "output = qsharp.invoke(\n",
    "    \"Hello\",\n",
    "    \"QuantumSimulator\",\n",
    "    {}\n",
    ")\n",
    "print(output)"
   ]
  },
  {
   "cell_type": "code",
   "execution_count": 5,
   "id": "672bbd08",
   "metadata": {},
   "outputs": [
    {
     "name": "stdout",
     "output_type": "stream",
     "text": [
      "{ DumpPlus } \n"
     ]
    }
   ],
   "source": [
    "callables = qsharp.compile([[\n",
    "    open Microsoft.Quantum.Diagnostics;\n",
    "\n",
    "    operation DumpPlus() : Unit {\n",
    "        use q = Qubit();\n",
    "        within {\n",
    "            H(q);\n",
    "        } apply {\n",
    "            DumpMachine();\n",
    "        }\n",
    "    }\n",
    "]])\n",
    "print(callables)"
   ]
  },
  {
   "cell_type": "code",
   "execution_count": 6,
   "id": "d5a4fb12",
   "metadata": {},
   "outputs": [
    {
     "name": "stdout",
     "output_type": "stream",
     "text": [
      "# wave function for qubits with ids (least to most significant): 0 \n",
      "\n",
      "∣0❭:\t 0.707107 +  0.000000 i\t == \t***********          [ 0.500000 ]     --- [  0.00000 rad ] \n",
      "\n",
      "∣1❭:\t 0.707107 +  0.000000 i\t == \t***********          [ 0.500000 ]     --- [  0.00000 rad ] \n",
      "{} \n"
     ]
    }
   ],
   "source": [
    "output = qsharp.invoke(\n",
    "    \"DumpPlus\",\n",
    "    \"QuantumSimulator\",\n",
    "    {}\n",
    ")\n",
    "print(output)"
   ]
  },
  {
   "cell_type": "code",
   "execution_count": 7,
   "id": "892a53d2",
   "metadata": {},
   "outputs": [
    {
     "name": "stdout",
     "output_type": "stream",
     "text": [
      "\n",
      "Displayable output: {\n",
      "    Data={\n",
      "        0.5,\n",
      "        0.0,\n",
      "        0.0,\n",
      "        0.0,\n",
      "        0.5,\n",
      "        0.0,\n",
      "        0.0,\n",
      "        0.0,\n",
      "        0.0,\n",
      "        0.0,\n",
      "        0.0,\n",
      "        0.0,\n",
      "        0.0,\n",
      "        0.0,\n",
      "        0.0,\n",
      "        0.0,\n",
      "        0.5,\n",
      "        0.0,\n",
      "        0.0,\n",
      "        0.0,\n",
      "        0.5,\n",
      "        0.0,\n",
      "        0.0,\n",
      "        0.0,\n",
      "        0.0,\n",
      "        0.0,\n",
      "        0.0,\n",
      "        0.0,\n",
      "        0.0,\n",
      "        0.0,\n",
      "        0.0,\n",
      "        0.0\n",
      "    },\n",
      "    NQubits=2\n",
      "} \n",
      "{} \n"
     ]
    }
   ],
   "source": [
    "output = qsharp.invoke(\n",
    "    \"DumpPlus\",\n",
    "    \"OpenSystemsSimulator\",\n",
    "    {}\n",
    ")\n",
    "print(output)"
   ]
  },
  {
   "cell_type": "code",
   "execution_count": null,
   "id": "a2b5d627",
   "metadata": {},
   "outputs": [],
   "source": []
  }
 ],
 "metadata": {
  "kernelspec": {
   "display_name": "Lua 0.3 (XLua)",
   "language": "lua",
   "name": "xlua"
  },
  "language_info": {
   "file_extension": ".lua",
   "mimetype": "text/x-luasrc",
   "name": "lua",
   "version": "14.0.0"
  }
 },
 "nbformat": 4,
 "nbformat_minor": 5
}
